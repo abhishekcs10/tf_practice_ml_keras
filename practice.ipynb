{
  "nbformat": 4,
  "nbformat_minor": 0,
  "metadata": {
    "colab": {
      "name": "Untitled0.ipynb",
      "version": "0.3.2",
      "provenance": [],
      "include_colab_link": true
    },
    "kernelspec": {
      "name": "python3",
      "display_name": "Python 3"
    }
  },
  "cells": [
    {
      "cell_type": "markdown",
      "metadata": {
        "id": "view-in-github",
        "colab_type": "text"
      },
      "source": [
        "<a href=\"https://colab.research.google.com/github/abhishekcs10/tf_practice_ml_keras/blob/master/practice.ipynb\" target=\"_parent\"><img src=\"https://colab.research.google.com/assets/colab-badge.svg\" alt=\"Open In Colab\"/></a>"
      ]
    },
    {
      "metadata": {
        "id": "HcmyPRqfV6aR",
        "colab_type": "code",
        "colab": {
          "base_uri": "https://localhost:8080/",
          "height": 168
        },
        "outputId": "43ad9dd1-099e-4380-ee13-dcba3056f364"
      },
      "cell_type": "code",
      "source": [
        "import tensorflow as tf\n",
        "import numpy as np\n",
        "from __future__ import print_function\n",
        "a=np.random.uniform(low=0.5, high=12.3,size=(4,3))\n",
        "b=np.random.randint(low=1,size=(4,5))\n",
        "print(a)\n",
        "x_tensor=tf.placeholder(tf.float32,shape=(4,3))\n",
        "m_tensor=tf.placeholder(tf.float32,shape=(5,4))\n",
        "c_tensor=np.random.uniform(1,5,size=(5,1))\n",
        "y_tensor=tf.add(tf.matmul(m_tensor,x_tensor),c_tensor)\n",
        "\n",
        "\n",
        "  "
      ],
      "execution_count": 19,
      "outputs": [
        {
          "output_type": "stream",
          "text": [
            "[[ 5.14434663 11.28647508 11.74254425]\n",
            " [11.75542743  6.89771521  4.98037497]\n",
            " [ 1.46141869  8.00514924  9.35258205]\n",
            " [ 1.0765045   8.96105003  9.27760684]]\n",
            "[[1.6683549 1.6683549 1.6683549]\n",
            " [4.5554233 4.5554233 4.5554233]\n",
            " [1.0554993 1.0554993 1.0554993]\n",
            " [1.1658249 1.1658249 1.1658249]\n",
            " [2.0021355 2.0021355 2.0021355]]\n"
          ],
          "name": "stdout"
        }
      ]
    },
    {
      "metadata": {
        "id": "Dw9jioqzV9BP",
        "colab_type": "code",
        "outputId": "5128ed9d-dafe-40fc-a41c-64490781ae55",
        "colab": {
          "base_uri": "https://localhost:8080/",
          "height": 118
        }
      },
      "cell_type": "code",
      "source": [
        "with tf.Session() as sess:\n",
        "  d=sess.run(y_tensor, {x_tensor: a,m_tensor: b.T})\n",
        "  print(d)\n",
        "  print(type(d))"
      ],
      "execution_count": 21,
      "outputs": [
        {
          "output_type": "stream",
          "text": [
            "[[1.6683549 1.6683549 1.6683549]\n",
            " [4.5554233 4.5554233 4.5554233]\n",
            " [1.0554993 1.0554993 1.0554993]\n",
            " [1.1658249 1.1658249 1.1658249]\n",
            " [2.0021355 2.0021355 2.0021355]]\n",
            "<class 'numpy.ndarray'>\n"
          ],
          "name": "stdout"
        }
      ]
    },
    {
      "metadata": {
        "id": "RMT62n_TZhaP",
        "colab_type": "code",
        "colab": {
          "base_uri": "https://localhost:8080/",
          "height": 34
        },
        "outputId": "55f92b1d-664e-4f01-945f-a706dddc9e55"
      },
      "cell_type": "code",
      "source": [
        ""
      ],
      "execution_count": 15,
      "outputs": [
        {
          "output_type": "execute_result",
          "data": {
            "text/plain": [
              "<tf.Operation 'PrintV2_1' type=PrintV2>"
            ]
          },
          "metadata": {
            "tags": []
          },
          "execution_count": 15
        }
      ]
    },
    {
      "metadata": {
        "id": "t9M832cwMwR-",
        "colab_type": "code",
        "colab": {}
      },
      "cell_type": "code",
      "source": [
        ""
      ],
      "execution_count": 0,
      "outputs": []
    }
  ]
}